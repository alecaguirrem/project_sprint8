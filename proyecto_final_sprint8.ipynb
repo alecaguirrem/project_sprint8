{
 "cells": [
  {
   "cell_type": "markdown",
   "metadata": {},
   "source": [
    "<center> \n",
    "\n",
    "## Proyecto Final Sprint 8\n",
    "\n",
    "</center>"
   ]
  },
  {
   "cell_type": "markdown",
   "metadata": {},
   "source": [
    "Hay varios pasos que se realizaron para obtener información antes de poder probar la hipótesis. Como el código que se utilizó fue Python y también SQL el cual no se puede simular aquí, voy a dejar el código de SQL en celdas markdown."
   ]
  },
  {
   "cell_type": "markdown",
   "metadata": {},
   "source": [
    "Escribe un código para analizar los datos sobre el clima en Chicago en noviembre de 2017 desde el sitio web:\n",
    "\n",
    "https://practicum-content.s3.us-west-1.amazonaws.com/data-analyst-eng/moved_chicago_weather_2017.html"
   ]
  },
  {
   "cell_type": "code",
   "execution_count": null,
   "metadata": {},
   "outputs": [],
   "source": [
    "import pandas as pd\n",
    "import requests\n",
    "from bs4 import BeautifulSoup"
   ]
  },
  {
   "cell_type": "code",
   "execution_count": null,
   "metadata": {},
   "outputs": [],
   "source": [
    "#Importación de datos desde la web\n",
    "url = 'https://practicum-content.s3.us-west-1.amazonaws.com/data-analyst-eng/moved_chicago_weather_2017.html'\n",
    "req = requests.get(url)\n",
    "sopita = BeautifulSoup(req.text, 'lxml')\n",
    "tabla = sopita.find('table',attrs={\"id\": \"weather_records\"})\n",
    "\n",
    "#Conversión de la tabla a DataFrame\n",
    "titulos_tabla = []\n",
    "for row in tabla.find_all('th'):\n",
    "    titulos_tabla.append(row.text)\n",
    "\n",
    "contenido = []\n",
    "for row in tabla.find_all('tr'):\n",
    "    if not row.find_all('th'):\n",
    "        contenido.append([element.text for element in row.find_all('td')])\n",
    "\n",
    "weather_records = pd.DataFrame(contenido,columns=titulos_tabla)"
   ]
  },
  {
   "cell_type": "markdown",
   "metadata": {},
   "source": [
    "Ahora empezaremos a usar SQL para obtener más información para la prueba de hipótesis, aquí dejo un diagrama E-R para tener un mejor panorama de la base de datos que tenemos."
   ]
  },
  {
   "cell_type": "markdown",
   "metadata": {},
   "source": [
    "![alt text](<Diagrama E-R.png>)"
   ]
  },
  {
   "cell_type": "markdown",
   "metadata": {},
   "source": [
    "##### Paso 1.\n",
    "Imprime el campo company_name. Encuentra la cantidad de viajes en taxi para cada compañía de taxis para el 15 y 16 de noviembre de 2017, asigna al campo resultante el nombre trips_amount e imprímelo también. Ordena los resultados por el campo trips_amount en orden descendente."
   ]
  },
  {
   "cell_type": "code",
   "execution_count": 4,
   "metadata": {},
   "outputs": [],
   "source": [
    "#SELECT \n",
    "#    cabs.company_name AS company_name,\n",
    "#    SUM(subconsulta.trips_amount) AS trips_amount\n",
    "#FROM\n",
    "#    cabs\n",
    "#    INNER JOIN\n",
    "#    (SELECT\n",
    "#        cab_id,\n",
    "#        COUNT(trips.trip_id) AS trips_amount\n",
    "#    FROM \n",
    "#        trips\n",
    "#    WHERE \n",
    "#        CAST(start_ts AS date) BETWEEN '2017-11-15' AND '2017-11-16'\n",
    "#    GROUP BY \n",
    "#        cab_id) AS subconsulta ON subconsulta.cab_id = cabs.cab_id\n",
    "#GROUP BY \n",
    "#    company_name\n",
    "#ORDER BY \n",
    "#    trips_amount DESC;"
   ]
  },
  {
   "cell_type": "markdown",
   "metadata": {},
   "source": [
    "##### Paso 2.\n",
    "Encuentra la cantidad de viajes para cada empresa de taxis cuyo nombre contenga las palabras \"Yellow\" o \"Blue\" del 1 al 7 de noviembre de 2017. Nombra la variable resultante trips_amount. Agrupa los resultados por el campo company_name."
   ]
  },
  {
   "cell_type": "code",
   "execution_count": 3,
   "metadata": {},
   "outputs": [],
   "source": [
    "#SELECT \n",
    "#    subconsulta.company_name,\n",
    "#    COUNT(trips.cab_id) as trips_amount\n",
    "#FROM\n",
    "#    trips\n",
    "#    INNER JOIN\n",
    "#    (SELECT \n",
    "#        cab_id,\n",
    "#        company_name\n",
    "#    FROM \n",
    "#        cabs\n",
    "#    WHERE \n",
    "#        company_name LIKE '%Yellow%' OR company_name LIKE '%Blue%') AS subconsulta ON subconsulta.cab_id = trips.cab_id\n",
    "#WHERE \n",
    "#    CAST(trips.start_ts AS date) BETWEEN '2017-11-01' AND '2017-11-07'\n",
    "#GROUP BY \n",
    "#    company_name"
   ]
  },
  {
   "cell_type": "markdown",
   "metadata": {},
   "source": [
    "##### Paso 3.\n",
    "Del 1 al 7 de noviembre de 2017, las empresas de taxis más populares fueron Flash Cab y Taxi Affiliation Services. Encuentra el número de viajes de estas dos empresas y asigna a la variable resultante el nombre trips_amount. Junta los viajes de todas las demás empresas en el grupo \"Other\". Agrupa los datos por nombres de empresas de taxis. Asigna el nombre company al campo con nombres de empresas de taxis. Ordena el resultado en orden descendente por trips_amount."
   ]
  },
  {
   "cell_type": "code",
   "execution_count": null,
   "metadata": {},
   "outputs": [],
   "source": [
    "#SELECT \n",
    "#    CASE WHEN subconsulta.company_name = 'Flash Cab' THEN 'Flash Cab'\n",
    "#    WHEN subconsulta.company_name = 'Taxi Affiliation Services' THEN 'Taxi Affiliation Services'\n",
    "#    ELSE 'Other' \n",
    "#    END AS company_name,\n",
    "#    COUNT(trips.trip_id) AS trips_amount\n",
    "#FROM \n",
    "#    trips\n",
    "#    INNER JOIN \n",
    "#    (SELECT\n",
    "#        cabs.cab_id,\n",
    "#        cabs.company_name AS company_name\n",
    "#    FROM \n",
    "#        cabs) AS subconsulta ON subconsulta.cab_id = trips.cab_id\n",
    "#WHERE \n",
    "#    CAST(trips.start_ts AS date) BETWEEN '2017-11-01' AND '2017-11-07'\n",
    "#GROUP BY \n",
    "#    CASE WHEN subconsulta.company_name = 'Flash Cab' THEN 'Flash Cab'\n",
    "#    WHEN subconsulta.company_name = 'Taxi Affiliation Services' THEN 'Taxi Affiliation Services'\n",
    "#    ELSE 'Other' \n",
    "#    END\n",
    "#ORDER BY \n",
    "#    trips_amount DESC;"
   ]
  },
  {
   "cell_type": "markdown",
   "metadata": {},
   "source": [
    "##### Paso 4.\n",
    "Recupera los identificadores de los barrios de O'Hare y Loop de la tabla neighborhoods."
   ]
  },
  {
   "cell_type": "code",
   "execution_count": 6,
   "metadata": {},
   "outputs": [],
   "source": [
    "#SELECT \n",
    "#    neighborhood_id,\n",
    "#    name\n",
    "#FROM \n",
    "#    neighborhoods    \n",
    "#WHERE \n",
    "#    name LIKE '%O''Hare%' OR name LIKE 'Loop'"
   ]
  },
  {
   "cell_type": "markdown",
   "metadata": {},
   "source": [
    "##### Paso 5.\n",
    "Para cada hora recupera los registros de condiciones meteorológicas de la tabla weather_records. Usando el operador CASE, divide todas las horas en dos grupos: Bad si el campo description contiene las palabras rain o storm, y Good para los demás. Nombra el campo resultante weather_conditions. La tabla final debe incluir dos campos: fecha y hora (ts) y weather_conditions."
   ]
  },
  {
   "cell_type": "code",
   "execution_count": 7,
   "metadata": {},
   "outputs": [],
   "source": [
    "#SELECT \n",
    "#    ts,\n",
    "#    CASE WHEN description LIKE '%rain%' OR description LIKE '%storm%' THEN 'Bad'\n",
    "#    ELSE 'Good' END AS weather_conditions\n",
    "#FROM \n",
    "#    weather_records "
   ]
  },
  {
   "cell_type": "markdown",
   "metadata": {},
   "source": [
    "##### Paso 6.\n",
    "Recupera de la tabla de trips todos los viajes que comenzaron en el Loop (pickup_location_id: 50) el sábado y terminaron en O'Hare (dropoff_location_id: 63). Obtén las condiciones climáticas para cada viaje. Utiliza el método que aplicaste en la tarea anterior. Recupera también la duración de cada viaje. Ignora los viajes para los que no hay datos disponibles sobre las condiciones climáticas.\n",
    "\n",
    "Las columnas de la tabla deben estar en el siguiente orden:\n",
    "- start_ts\n",
    "- weather_conditions\n",
    "- duration_seconds\n",
    "- Ordena por trip_id."
   ]
  },
  {
   "cell_type": "code",
   "execution_count": 8,
   "metadata": {},
   "outputs": [],
   "source": [
    "#SELECT \n",
    "#    trips.start_ts AS start_ts,\n",
    "#    subconsulta.weather_conditions AS weather_conditions,\n",
    "#    trips.duration_seconds AS duration_seconds\n",
    "#FROM \n",
    "#    trips\n",
    "#    INNER JOIN\n",
    "#    (SELECT \n",
    "#        ts,\n",
    "#        CASE WHEN description LIKE '%rain%' OR description LIKE '%storm%' THEN 'Bad'\n",
    "#        ELSE 'Good' END AS weather_conditions\n",
    "#    FROM \n",
    "#        weather_records) AS subconsulta ON subconsulta.ts = trips.start_ts\n",
    "#WHERE \n",
    "#    pickup_location_id = 50 AND dropoff_location_id = 63 AND EXTRACT(DOW FROM trips.start_ts) = 6\n",
    "#ORDER BY \n",
    "#    trip_id"
   ]
  },
  {
   "cell_type": "markdown",
   "metadata": {},
   "source": [
    "## Introducción"
   ]
  },
  {
   "cell_type": "markdown",
   "metadata": {},
   "source": [
    "Para este proyecto se trabajo anteriormente con una base de datos de SQL, de ésta misma se obtuvieron distintas tablas para un analasis posterior en Python. \n",
    "\n",
    "Como compañía nueva en el mercado de taxis, estamos evaluando quienes son nuestros principales competencias, así como saber cuales son los vecinadrios con mayor movimiento para poco a poco poder entrar en el mercado e irnos dando a conocer. \n",
    "\n",
    "También una parte importante de éste estudio es el de analizar si los recorridos los días sábados, desde el vecindario de Loop hasta el Aeropuerto Internacional de Chicago (O'Hare) se ven afectados por el clima, lo cual puede repercutir en una baja de viajes em comparacion a los días con un buen clima."
   ]
  },
  {
   "cell_type": "markdown",
   "metadata": {},
   "source": [
    "### Importar los archivos"
   ]
  },
  {
   "cell_type": "code",
   "execution_count": 1,
   "metadata": {},
   "outputs": [],
   "source": [
    "import pandas as pd\n",
    "from matplotlib import pyplot as plt\n",
    "from scipy.stats import levene\n",
    "from scipy import stats as st"
   ]
  },
  {
   "cell_type": "code",
   "execution_count": 2,
   "metadata": {},
   "outputs": [],
   "source": [
    "company_and_trips = pd.read_csv(\"/datasets/project_sql_result_01.csv\")\n",
    "dropoff_and_avg = pd.read_csv(\"/datasets/project_sql_result_04.csv\")\n",
    "loop_to_airport = pd.read_csv(\"/datasets/project_sql_result_07.csv\")"
   ]
  },
  {
   "cell_type": "markdown",
   "metadata": {},
   "source": [
    "### Asegurarte de que los tipos de datos sean correctos"
   ]
  },
  {
   "cell_type": "markdown",
   "metadata": {},
   "source": [
    "Analisis del primer DataFrame (company_and_trips)"
   ]
  },
  {
   "cell_type": "code",
   "execution_count": 3,
   "metadata": {},
   "outputs": [
    {
     "name": "stdout",
     "output_type": "stream",
     "text": [
      "Primeras 5 líneas del DataFrame\n"
     ]
    },
    {
     "data": {
      "text/html": [
       "<div>\n",
       "<style scoped>\n",
       "    .dataframe tbody tr th:only-of-type {\n",
       "        vertical-align: middle;\n",
       "    }\n",
       "\n",
       "    .dataframe tbody tr th {\n",
       "        vertical-align: top;\n",
       "    }\n",
       "\n",
       "    .dataframe thead th {\n",
       "        text-align: right;\n",
       "    }\n",
       "</style>\n",
       "<table border=\"1\" class=\"dataframe\">\n",
       "  <thead>\n",
       "    <tr style=\"text-align: right;\">\n",
       "      <th></th>\n",
       "      <th>company_name</th>\n",
       "      <th>trips_amount</th>\n",
       "    </tr>\n",
       "  </thead>\n",
       "  <tbody>\n",
       "    <tr>\n",
       "      <th>0</th>\n",
       "      <td>Flash Cab</td>\n",
       "      <td>19558</td>\n",
       "    </tr>\n",
       "    <tr>\n",
       "      <th>1</th>\n",
       "      <td>Taxi Affiliation Services</td>\n",
       "      <td>11422</td>\n",
       "    </tr>\n",
       "    <tr>\n",
       "      <th>2</th>\n",
       "      <td>Medallion Leasing</td>\n",
       "      <td>10367</td>\n",
       "    </tr>\n",
       "    <tr>\n",
       "      <th>3</th>\n",
       "      <td>Yellow Cab</td>\n",
       "      <td>9888</td>\n",
       "    </tr>\n",
       "    <tr>\n",
       "      <th>4</th>\n",
       "      <td>Taxi Affiliation Service Yellow</td>\n",
       "      <td>9299</td>\n",
       "    </tr>\n",
       "  </tbody>\n",
       "</table>\n",
       "</div>"
      ],
      "text/plain": [
       "                      company_name  trips_amount\n",
       "0                        Flash Cab         19558\n",
       "1        Taxi Affiliation Services         11422\n",
       "2                Medallion Leasing         10367\n",
       "3                       Yellow Cab          9888\n",
       "4  Taxi Affiliation Service Yellow          9299"
      ]
     },
     "metadata": {},
     "output_type": "display_data"
    },
    {
     "name": "stdout",
     "output_type": "stream",
     "text": [
      "Información general del DataFrame\n",
      "<class 'pandas.core.frame.DataFrame'>\n",
      "RangeIndex: 64 entries, 0 to 63\n",
      "Data columns (total 2 columns):\n",
      " #   Column        Non-Null Count  Dtype \n",
      "---  ------        --------------  ----- \n",
      " 0   company_name  64 non-null     object\n",
      " 1   trips_amount  64 non-null     int64 \n",
      "dtypes: int64(1), object(1)\n",
      "memory usage: 1.1+ KB\n",
      "Media, Desviación estándar, mínimo, máximo y cuartiles del DataFrame\n"
     ]
    },
    {
     "data": {
      "text/html": [
       "<div>\n",
       "<style scoped>\n",
       "    .dataframe tbody tr th:only-of-type {\n",
       "        vertical-align: middle;\n",
       "    }\n",
       "\n",
       "    .dataframe tbody tr th {\n",
       "        vertical-align: top;\n",
       "    }\n",
       "\n",
       "    .dataframe thead th {\n",
       "        text-align: right;\n",
       "    }\n",
       "</style>\n",
       "<table border=\"1\" class=\"dataframe\">\n",
       "  <thead>\n",
       "    <tr style=\"text-align: right;\">\n",
       "      <th></th>\n",
       "      <th>trips_amount</th>\n",
       "    </tr>\n",
       "  </thead>\n",
       "  <tbody>\n",
       "    <tr>\n",
       "      <th>count</th>\n",
       "      <td>64.000000</td>\n",
       "    </tr>\n",
       "    <tr>\n",
       "      <th>mean</th>\n",
       "      <td>2145.484375</td>\n",
       "    </tr>\n",
       "    <tr>\n",
       "      <th>std</th>\n",
       "      <td>3812.310186</td>\n",
       "    </tr>\n",
       "    <tr>\n",
       "      <th>min</th>\n",
       "      <td>2.000000</td>\n",
       "    </tr>\n",
       "    <tr>\n",
       "      <th>25%</th>\n",
       "      <td>20.750000</td>\n",
       "    </tr>\n",
       "    <tr>\n",
       "      <th>50%</th>\n",
       "      <td>178.500000</td>\n",
       "    </tr>\n",
       "    <tr>\n",
       "      <th>75%</th>\n",
       "      <td>2106.500000</td>\n",
       "    </tr>\n",
       "    <tr>\n",
       "      <th>max</th>\n",
       "      <td>19558.000000</td>\n",
       "    </tr>\n",
       "  </tbody>\n",
       "</table>\n",
       "</div>"
      ],
      "text/plain": [
       "       trips_amount\n",
       "count     64.000000\n",
       "mean    2145.484375\n",
       "std     3812.310186\n",
       "min        2.000000\n",
       "25%       20.750000\n",
       "50%      178.500000\n",
       "75%     2106.500000\n",
       "max    19558.000000"
      ]
     },
     "execution_count": 3,
     "metadata": {},
     "output_type": "execute_result"
    }
   ],
   "source": [
    "print('Primeras 5 líneas del DataFrame')\n",
    "display(company_and_trips.head())\n",
    "print('Información general del DataFrame')\n",
    "company_and_trips.info()\n",
    "print('Media, Desviación estándar, mínimo, máximo y cuartiles del DataFrame')\n",
    "company_and_trips.describe()"
   ]
  },
  {
   "cell_type": "markdown",
   "metadata": {},
   "source": [
    "Con el método info() podemos observar que no hay valores nulos en este DF, también podemos observar que la diferencia entre el número de viajes de las diferentes compañías es muy variable desde 2 hasta 19,558. Lo cual explica el valor tan alto de la desviación estándar."
   ]
  },
  {
   "cell_type": "code",
   "execution_count": 4,
   "metadata": {},
   "outputs": [
    {
     "name": "stdout",
     "output_type": "stream",
     "text": [
      "Primeras 5 líneas del DataFrame\n"
     ]
    },
    {
     "data": {
      "text/html": [
       "<div>\n",
       "<style scoped>\n",
       "    .dataframe tbody tr th:only-of-type {\n",
       "        vertical-align: middle;\n",
       "    }\n",
       "\n",
       "    .dataframe tbody tr th {\n",
       "        vertical-align: top;\n",
       "    }\n",
       "\n",
       "    .dataframe thead th {\n",
       "        text-align: right;\n",
       "    }\n",
       "</style>\n",
       "<table border=\"1\" class=\"dataframe\">\n",
       "  <thead>\n",
       "    <tr style=\"text-align: right;\">\n",
       "      <th></th>\n",
       "      <th>dropoff_location_name</th>\n",
       "      <th>average_trips</th>\n",
       "    </tr>\n",
       "  </thead>\n",
       "  <tbody>\n",
       "    <tr>\n",
       "      <th>0</th>\n",
       "      <td>Loop</td>\n",
       "      <td>10727.466667</td>\n",
       "    </tr>\n",
       "    <tr>\n",
       "      <th>1</th>\n",
       "      <td>River North</td>\n",
       "      <td>9523.666667</td>\n",
       "    </tr>\n",
       "    <tr>\n",
       "      <th>2</th>\n",
       "      <td>Streeterville</td>\n",
       "      <td>6664.666667</td>\n",
       "    </tr>\n",
       "    <tr>\n",
       "      <th>3</th>\n",
       "      <td>West Loop</td>\n",
       "      <td>5163.666667</td>\n",
       "    </tr>\n",
       "    <tr>\n",
       "      <th>4</th>\n",
       "      <td>O'Hare</td>\n",
       "      <td>2546.900000</td>\n",
       "    </tr>\n",
       "  </tbody>\n",
       "</table>\n",
       "</div>"
      ],
      "text/plain": [
       "  dropoff_location_name  average_trips\n",
       "0                  Loop   10727.466667\n",
       "1           River North    9523.666667\n",
       "2         Streeterville    6664.666667\n",
       "3             West Loop    5163.666667\n",
       "4                O'Hare    2546.900000"
      ]
     },
     "metadata": {},
     "output_type": "display_data"
    },
    {
     "name": "stdout",
     "output_type": "stream",
     "text": [
      "Información general del DataFrame\n",
      "<class 'pandas.core.frame.DataFrame'>\n",
      "RangeIndex: 94 entries, 0 to 93\n",
      "Data columns (total 2 columns):\n",
      " #   Column                 Non-Null Count  Dtype  \n",
      "---  ------                 --------------  -----  \n",
      " 0   dropoff_location_name  94 non-null     object \n",
      " 1   average_trips          94 non-null     float64\n",
      "dtypes: float64(1), object(1)\n",
      "memory usage: 1.6+ KB\n",
      "Media, Desviación estándar, mínimo, máximo y cuartiles del DataFrame\n"
     ]
    },
    {
     "data": {
      "text/html": [
       "<div>\n",
       "<style scoped>\n",
       "    .dataframe tbody tr th:only-of-type {\n",
       "        vertical-align: middle;\n",
       "    }\n",
       "\n",
       "    .dataframe tbody tr th {\n",
       "        vertical-align: top;\n",
       "    }\n",
       "\n",
       "    .dataframe thead th {\n",
       "        text-align: right;\n",
       "    }\n",
       "</style>\n",
       "<table border=\"1\" class=\"dataframe\">\n",
       "  <thead>\n",
       "    <tr style=\"text-align: right;\">\n",
       "      <th></th>\n",
       "      <th>average_trips</th>\n",
       "    </tr>\n",
       "  </thead>\n",
       "  <tbody>\n",
       "    <tr>\n",
       "      <th>count</th>\n",
       "      <td>94.000000</td>\n",
       "    </tr>\n",
       "    <tr>\n",
       "      <th>mean</th>\n",
       "      <td>599.953728</td>\n",
       "    </tr>\n",
       "    <tr>\n",
       "      <th>std</th>\n",
       "      <td>1714.591098</td>\n",
       "    </tr>\n",
       "    <tr>\n",
       "      <th>min</th>\n",
       "      <td>1.800000</td>\n",
       "    </tr>\n",
       "    <tr>\n",
       "      <th>25%</th>\n",
       "      <td>14.266667</td>\n",
       "    </tr>\n",
       "    <tr>\n",
       "      <th>50%</th>\n",
       "      <td>52.016667</td>\n",
       "    </tr>\n",
       "    <tr>\n",
       "      <th>75%</th>\n",
       "      <td>298.858333</td>\n",
       "    </tr>\n",
       "    <tr>\n",
       "      <th>max</th>\n",
       "      <td>10727.466667</td>\n",
       "    </tr>\n",
       "  </tbody>\n",
       "</table>\n",
       "</div>"
      ],
      "text/plain": [
       "       average_trips\n",
       "count      94.000000\n",
       "mean      599.953728\n",
       "std      1714.591098\n",
       "min         1.800000\n",
       "25%        14.266667\n",
       "50%        52.016667\n",
       "75%       298.858333\n",
       "max     10727.466667"
      ]
     },
     "execution_count": 4,
     "metadata": {},
     "output_type": "execute_result"
    }
   ],
   "source": [
    "print('Primeras 5 líneas del DataFrame')\n",
    "display(dropoff_and_avg.head())\n",
    "print('Información general del DataFrame')\n",
    "dropoff_and_avg.info()\n",
    "print('Media, Desviación estándar, mínimo, máximo y cuartiles del DataFrame')\n",
    "dropoff_and_avg.describe()"
   ]
  },
  {
   "cell_type": "markdown",
   "metadata": {},
   "source": [
    "Podemos observar cuales son los 5 destinos más populares en los servicios de taxis, así como también podemos notar que los lugares más populares como destino son menos del 25% de la lista (menos de 23 destinos)."
   ]
  },
  {
   "cell_type": "markdown",
   "metadata": {},
   "source": [
    "### Asegurarte de que los tipos de datos sean correctos\n",
    "Los tipos de datos son correctos. Aunque algunos nombres de compañías se ven raros por tener unos números en sus nombres. Voy a analizar si hay valores duplicados, ya que con los métodos info nos dimos cuenta de que no hay valores nulos y el tipo de datos está en el formato correcto."
   ]
  },
  {
   "cell_type": "code",
   "execution_count": 5,
   "metadata": {},
   "outputs": [
    {
     "name": "stdout",
     "output_type": "stream",
     "text": [
      "Hay 0 valores duplicados en el DataFrame company_and_trips\n",
      "Hay 0 valores duplicados en el DataFrame dropoff_and_avg\n",
      "Hay 197 valores duplicados en el DataFrame loop_to_airport\n"
     ]
    }
   ],
   "source": [
    "print(f'Hay {company_and_trips.duplicated().sum()} valores duplicados en el DataFrame company_and_trips')\n",
    "print(f'Hay {dropoff_and_avg.duplicated().sum()} valores duplicados en el DataFrame dropoff_and_avg')\n",
    "print(f'Hay {loop_to_airport.duplicated().sum()} valores duplicados en el DataFrame loop_to_airport')"
   ]
  },
  {
   "cell_type": "markdown",
   "metadata": {},
   "source": [
    "Existen 197 datos duplicados en el DataFrame, en teoría no debería de haber datos duplicados ya que se agruparon por hora. Por tal motivo y al ser datos que ya se tienen para evitar estos duplicados los voy a eliminar del DF."
   ]
  },
  {
   "cell_type": "code",
   "execution_count": 6,
   "metadata": {},
   "outputs": [],
   "source": [
    "loop_to_airport = loop_to_airport.drop_duplicates()"
   ]
  },
  {
   "cell_type": "markdown",
   "metadata": {},
   "source": [
    "### Identificar los 10 principales barrios en términos de finalización del recorrido"
   ]
  },
  {
   "cell_type": "code",
   "execution_count": 7,
   "metadata": {},
   "outputs": [
    {
     "data": {
      "text/html": [
       "<div>\n",
       "<style scoped>\n",
       "    .dataframe tbody tr th:only-of-type {\n",
       "        vertical-align: middle;\n",
       "    }\n",
       "\n",
       "    .dataframe tbody tr th {\n",
       "        vertical-align: top;\n",
       "    }\n",
       "\n",
       "    .dataframe thead th {\n",
       "        text-align: right;\n",
       "    }\n",
       "</style>\n",
       "<table border=\"1\" class=\"dataframe\">\n",
       "  <thead>\n",
       "    <tr style=\"text-align: right;\">\n",
       "      <th></th>\n",
       "      <th>dropoff_location_name</th>\n",
       "      <th>average_trips</th>\n",
       "    </tr>\n",
       "  </thead>\n",
       "  <tbody>\n",
       "    <tr>\n",
       "      <th>0</th>\n",
       "      <td>Loop</td>\n",
       "      <td>10727.466667</td>\n",
       "    </tr>\n",
       "    <tr>\n",
       "      <th>1</th>\n",
       "      <td>River North</td>\n",
       "      <td>9523.666667</td>\n",
       "    </tr>\n",
       "    <tr>\n",
       "      <th>2</th>\n",
       "      <td>Streeterville</td>\n",
       "      <td>6664.666667</td>\n",
       "    </tr>\n",
       "    <tr>\n",
       "      <th>3</th>\n",
       "      <td>West Loop</td>\n",
       "      <td>5163.666667</td>\n",
       "    </tr>\n",
       "    <tr>\n",
       "      <th>4</th>\n",
       "      <td>O'Hare</td>\n",
       "      <td>2546.900000</td>\n",
       "    </tr>\n",
       "    <tr>\n",
       "      <th>5</th>\n",
       "      <td>Lake View</td>\n",
       "      <td>2420.966667</td>\n",
       "    </tr>\n",
       "    <tr>\n",
       "      <th>6</th>\n",
       "      <td>Grant Park</td>\n",
       "      <td>2068.533333</td>\n",
       "    </tr>\n",
       "    <tr>\n",
       "      <th>7</th>\n",
       "      <td>Museum Campus</td>\n",
       "      <td>1510.000000</td>\n",
       "    </tr>\n",
       "    <tr>\n",
       "      <th>8</th>\n",
       "      <td>Gold Coast</td>\n",
       "      <td>1364.233333</td>\n",
       "    </tr>\n",
       "    <tr>\n",
       "      <th>9</th>\n",
       "      <td>Sheffield &amp; DePaul</td>\n",
       "      <td>1259.766667</td>\n",
       "    </tr>\n",
       "  </tbody>\n",
       "</table>\n",
       "</div>"
      ],
      "text/plain": [
       "  dropoff_location_name  average_trips\n",
       "0                  Loop   10727.466667\n",
       "1           River North    9523.666667\n",
       "2         Streeterville    6664.666667\n",
       "3             West Loop    5163.666667\n",
       "4                O'Hare    2546.900000\n",
       "5             Lake View    2420.966667\n",
       "6            Grant Park    2068.533333\n",
       "7         Museum Campus    1510.000000\n",
       "8            Gold Coast    1364.233333\n",
       "9    Sheffield & DePaul    1259.766667"
      ]
     },
     "metadata": {},
     "output_type": "display_data"
    }
   ],
   "source": [
    "display(dropoff_and_avg.head(10))"
   ]
  },
  {
   "cell_type": "markdown",
   "metadata": {},
   "source": [
    "### Hacer gráficos: empresas de taxis y número de viajes"
   ]
  },
  {
   "cell_type": "code",
   "execution_count": 8,
   "metadata": {},
   "outputs": [
    {
     "data": {
      "image/png": "[encoded data removed]",
      "text/plain": [
       "<Figure size 1200x600 with 1 Axes>"
      ]
     },
     "metadata": {},
     "output_type": "display_data"
    }
   ],
   "source": [
    "company_and_trips.head(30).plot(kind=\"bar\", \n",
    "                                x=\"company_name\", \n",
    "                                y=\"trips_amount\", \n",
    "                                xlabel=\"Compañía de taxis\", \n",
    "                                ylabel=\"Número de viajes\",\n",
    "                                title=\"Número de viajes por empresa de taxis\", \n",
    "                                color=\"blue\", \n",
    "                                figsize=(12, 6), \n",
    "                                legend=False)\n",
    "plt.show()"
   ]
  },
  {
   "cell_type": "markdown",
   "metadata": {},
   "source": [
    "Mostré en la gráfica solo las 30 compañias de taxis más populares ya que mostrar todas ensuciaba mucho el gráfico y apartir de la compañia 30 hasta la última los valores ya no varían mucho y no tiene caso mostrarlos.\n",
    "\n",
    "Podemos notar que las compañías más populares por los usuarios son Flash Cab, Taxi Affiliation Services, Medallion Leasing, Yellow Cab, entre otras. "
   ]
  },
  {
   "cell_type": "markdown",
   "metadata": {},
   "source": [
    "### Los 10 barrios principales por número de finalizaciones"
   ]
  },
  {
   "cell_type": "code",
   "execution_count": 9,
   "metadata": {},
   "outputs": [
    {
     "data": {
      "image/png": "[encoded data removed]",
      "text/plain": [
       "<Figure size 1200x600 with 1 Axes>"
      ]
     },
     "metadata": {},
     "output_type": "display_data"
    }
   ],
   "source": [
    "dropoff_and_avg.head(10).plot(kind=\"bar\", \n",
    "                              x=\"dropoff_location_name\", \n",
    "                              y=\"average_trips\", \n",
    "                              xlabel=\"Barrios destino de Chicago\", \n",
    "                              ylabel=\"Número promedio de viajes\", \n",
    "                              title=\"Los 10 destinos más populares de Chicago\", \n",
    "                              color=\"red\", \n",
    "                              figsize=(12, 6), \n",
    "                              legend=False)\n",
    "plt.show()"
   ]
  },
  {
   "cell_type": "markdown",
   "metadata": {},
   "source": [
    "Con la gráfica anterior podemos notar que los destinos más populares en Chicago son Loop, River North, Streeterville, entre otros."
   ]
  },
  {
   "cell_type": "markdown",
   "metadata": {},
   "source": [
    "### Prueba la hipótesis: \"La duración promedio de los viajes desde el Loop hasta el Aeropuerto Internacional O'Hare cambia los sábados lluviosos\"."
   ]
  },
  {
   "cell_type": "markdown",
   "metadata": {},
   "source": [
    "Para ésta prueba de hipótesis vamos a definir nuestra hipótesis nula y alternativa.\n",
    "\n",
    "- H0: la duración promedio de los viajes es igual en climas buenos como en climas malos.\n",
    "- H1: la duración promedio de los viajes var´´ia dependiendo del clima."
   ]
  },
  {
   "cell_type": "code",
   "execution_count": 10,
   "metadata": {},
   "outputs": [
    {
     "name": "stdout",
     "output_type": "stream",
     "text": [
      "Primeras 5 líneas del DataFrame\n"
     ]
    },
    {
     "data": {
      "text/html": [
       "<div>\n",
       "<style scoped>\n",
       "    .dataframe tbody tr th:only-of-type {\n",
       "        vertical-align: middle;\n",
       "    }\n",
       "\n",
       "    .dataframe tbody tr th {\n",
       "        vertical-align: top;\n",
       "    }\n",
       "\n",
       "    .dataframe thead th {\n",
       "        text-align: right;\n",
       "    }\n",
       "</style>\n",
       "<table border=\"1\" class=\"dataframe\">\n",
       "  <thead>\n",
       "    <tr style=\"text-align: right;\">\n",
       "      <th></th>\n",
       "      <th>start_ts</th>\n",
       "      <th>weather_conditions</th>\n",
       "      <th>duration_seconds</th>\n",
       "    </tr>\n",
       "  </thead>\n",
       "  <tbody>\n",
       "    <tr>\n",
       "      <th>0</th>\n",
       "      <td>2017-11-25 16:00:00</td>\n",
       "      <td>Good</td>\n",
       "      <td>2410.0</td>\n",
       "    </tr>\n",
       "    <tr>\n",
       "      <th>1</th>\n",
       "      <td>2017-11-25 14:00:00</td>\n",
       "      <td>Good</td>\n",
       "      <td>1920.0</td>\n",
       "    </tr>\n",
       "    <tr>\n",
       "      <th>2</th>\n",
       "      <td>2017-11-25 12:00:00</td>\n",
       "      <td>Good</td>\n",
       "      <td>1543.0</td>\n",
       "    </tr>\n",
       "    <tr>\n",
       "      <th>3</th>\n",
       "      <td>2017-11-04 10:00:00</td>\n",
       "      <td>Good</td>\n",
       "      <td>2512.0</td>\n",
       "    </tr>\n",
       "    <tr>\n",
       "      <th>4</th>\n",
       "      <td>2017-11-11 07:00:00</td>\n",
       "      <td>Good</td>\n",
       "      <td>1440.0</td>\n",
       "    </tr>\n",
       "  </tbody>\n",
       "</table>\n",
       "</div>"
      ],
      "text/plain": [
       "              start_ts weather_conditions  duration_seconds\n",
       "0  2017-11-25 16:00:00               Good            2410.0\n",
       "1  2017-11-25 14:00:00               Good            1920.0\n",
       "2  2017-11-25 12:00:00               Good            1543.0\n",
       "3  2017-11-04 10:00:00               Good            2512.0\n",
       "4  2017-11-11 07:00:00               Good            1440.0"
      ]
     },
     "metadata": {},
     "output_type": "display_data"
    },
    {
     "name": "stdout",
     "output_type": "stream",
     "text": [
      "Información general del DataFrame\n",
      "<class 'pandas.core.frame.DataFrame'>\n",
      "Int64Index: 871 entries, 0 to 1067\n",
      "Data columns (total 3 columns):\n",
      " #   Column              Non-Null Count  Dtype  \n",
      "---  ------              --------------  -----  \n",
      " 0   start_ts            871 non-null    object \n",
      " 1   weather_conditions  871 non-null    object \n",
      " 2   duration_seconds    871 non-null    float64\n",
      "dtypes: float64(1), object(2)\n",
      "memory usage: 27.2+ KB\n",
      "Media, Desviación estándar, mínimo, máximo y cuartiles del DataFrame\n"
     ]
    },
    {
     "data": {
      "text/html": [
       "<div>\n",
       "<style scoped>\n",
       "    .dataframe tbody tr th:only-of-type {\n",
       "        vertical-align: middle;\n",
       "    }\n",
       "\n",
       "    .dataframe tbody tr th {\n",
       "        vertical-align: top;\n",
       "    }\n",
       "\n",
       "    .dataframe thead th {\n",
       "        text-align: right;\n",
       "    }\n",
       "</style>\n",
       "<table border=\"1\" class=\"dataframe\">\n",
       "  <thead>\n",
       "    <tr style=\"text-align: right;\">\n",
       "      <th></th>\n",
       "      <th>duration_seconds</th>\n",
       "    </tr>\n",
       "  </thead>\n",
       "  <tbody>\n",
       "    <tr>\n",
       "      <th>count</th>\n",
       "      <td>871.000000</td>\n",
       "    </tr>\n",
       "    <tr>\n",
       "      <th>mean</th>\n",
       "      <td>2096.308840</td>\n",
       "    </tr>\n",
       "    <tr>\n",
       "      <th>std</th>\n",
       "      <td>782.274717</td>\n",
       "    </tr>\n",
       "    <tr>\n",
       "      <th>min</th>\n",
       "      <td>0.000000</td>\n",
       "    </tr>\n",
       "    <tr>\n",
       "      <th>25%</th>\n",
       "      <td>1440.000000</td>\n",
       "    </tr>\n",
       "    <tr>\n",
       "      <th>50%</th>\n",
       "      <td>2015.000000</td>\n",
       "    </tr>\n",
       "    <tr>\n",
       "      <th>75%</th>\n",
       "      <td>2584.000000</td>\n",
       "    </tr>\n",
       "    <tr>\n",
       "      <th>max</th>\n",
       "      <td>7440.000000</td>\n",
       "    </tr>\n",
       "  </tbody>\n",
       "</table>\n",
       "</div>"
      ],
      "text/plain": [
       "       duration_seconds\n",
       "count        871.000000\n",
       "mean        2096.308840\n",
       "std          782.274717\n",
       "min            0.000000\n",
       "25%         1440.000000\n",
       "50%         2015.000000\n",
       "75%         2584.000000\n",
       "max         7440.000000"
      ]
     },
     "execution_count": 10,
     "metadata": {},
     "output_type": "execute_result"
    }
   ],
   "source": [
    "print('Primeras 5 líneas del DataFrame')\n",
    "display(loop_to_airport.head())\n",
    "print('Información general del DataFrame')\n",
    "loop_to_airport.info()\n",
    "print('Media, Desviación estándar, mínimo, máximo y cuartiles del DataFrame')\n",
    "loop_to_airport.describe()"
   ]
  },
  {
   "cell_type": "markdown",
   "metadata": {},
   "source": [
    "Este DataFrame será el que usaremos más adelante para nuestra poner a prueba nuestra hipótesis y llegar a las conclusiones correspondientes. Podemos observar que hay una gran variación entre los tiempos del recorrido ya que van desde 24 minutos hasta más de 2 horas. "
   ]
  },
  {
   "cell_type": "code",
   "execution_count": 11,
   "metadata": {},
   "outputs": [
    {
     "name": "stdout",
     "output_type": "stream",
     "text": [
      "Se rechaza la hipótesis nula\n"
     ]
    }
   ],
   "source": [
    "# Primera voy a separar los datos por la descripción de los días entre buenos y malos\n",
    "\n",
    "good_days = loop_to_airport[loop_to_airport[\"weather_conditions\"]\n",
    "                            == \"Good\"][\"duration_seconds\"]\n",
    "bad_days = loop_to_airport[loop_to_airport[\"weather_conditions\"]\n",
    "                           == \"Bad\"][\"duration_seconds\"]\n",
    "\n",
    "# Ahora voy a utilizar el método levene para determinar si equal_var es True o False.\n",
    "\n",
    "beta = 0.05\n",
    "w_stats, p_value = levene(good_days, bad_days)\n",
    "if p_value < beta:\n",
    "    variable = False\n",
    "else:\n",
    "    variable = True\n",
    "\n",
    "# Ahora voy a utilizar el método ttest_ind para determinar si la duración promedio de los viajes desde el \n",
    "# Loop hasta el Aeropuerto Internacional O'Hare cambia los sábados lluviosos.\n",
    "\n",
    "# Mi hipótesis nula es que la duración promedio de los viajes desde el Loop hasta el Aeropuerto Internacional \n",
    "# O'Hare es igual los sábados con buen clima y en días lluviosos.\n",
    "\n",
    "alpha = 0.05\n",
    "results = st.ttest_ind(good_days, bad_days, equal_var=variable)\n",
    "\n",
    "if results.pvalue < alpha:\n",
    "    print(\"Se rechaza la hipótesis nula\")\n",
    "else:\n",
    "    print(\"No podemor rechazar la hipótesis nula\")"
   ]
  },
  {
   "cell_type": "markdown",
   "metadata": {},
   "source": [
    "Explica:\n",
    "\n",
    "1. ¿Cómo planteaste las hipótesis nula y alternativa?\n",
    "   - Mi hipóteiss nula es que la duración de los viajes es igual tanto días buenos como malos y mi hipótesis alternativa es que si varían.\n",
    "3. ¿Qué criterio usaste para probar las hipótesis y por qué?\n",
    "   - Utilice el método ttest de dos colas para muestras independientes."
   ]
  },
  {
   "cell_type": "markdown",
   "metadata": {},
   "source": [
    "### Conclusiones de la hipótesis."
   ]
  },
  {
   "cell_type": "markdown",
   "metadata": {},
   "source": [
    "Al rechazarse la hipótesis nula se puede concluir que la duración de los viajes desde Loop hasta el aeropuerto de Chicago los días sábados en días lluviosos es distinta a la de los días sin lluvia. "
   ]
  }
 ],
 "metadata": {
  "kernelspec": {
   "display_name": "Python 3",
   "language": "python",
   "name": "python3"
  },
  "language_info": {
   "codemirror_mode": {
    "name": "ipython",
    "version": 3
   },
   "file_extension": ".py",
   "mimetype": "text/x-python",
   "name": "python",
   "nbconvert_exporter": "python",
   "pygments_lexer": "ipython3",
   "version": "3.13.2"
  }
 },
 "nbformat": 4,
 "nbformat_minor": 4
}
